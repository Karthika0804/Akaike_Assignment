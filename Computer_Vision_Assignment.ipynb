{
  "nbformat": 4,
  "nbformat_minor": 0,
  "metadata": {
    "colab": {
      "provenance": [],
      "mount_file_id": "12W05i5K55HEVRDs2wy2aTvbPaOqpoi6S",
      "authorship_tag": "ABX9TyO0ZyixM5kziMsLhzydkXfa",
      "include_colab_link": true
    },
    "kernelspec": {
      "name": "python3",
      "display_name": "Python 3"
    },
    "language_info": {
      "name": "python"
    }
  },
  "cells": [
    {
      "cell_type": "markdown",
      "metadata": {
        "id": "view-in-github",
        "colab_type": "text"
      },
      "source": [
        "<a href=\"https://colab.research.google.com/github/Karthika0804/Akaike_Assignment/blob/main/Computer_Vision_Assignment.ipynb\" target=\"_parent\"><img src=\"https://colab.research.google.com/assets/colab-badge.svg\" alt=\"Open In Colab\"/></a>"
      ]
    },
    {
      "cell_type": "code",
      "source": [
        "from google.colab import drive\n",
        "drive.mount('/content/drive')\n"
      ],
      "metadata": {
        "colab": {
          "base_uri": "https://localhost:8080/"
        },
        "id": "4VGWI5zPuA3P",
        "outputId": "6668c7f3-82ce-4f35-a2ea-991ea0f2adc1"
      },
      "execution_count": null,
      "outputs": [
        {
          "output_type": "stream",
          "name": "stdout",
          "text": [
            "Mounted at /content/drive\n"
          ]
        }
      ]
    },
    {
      "cell_type": "code",
      "execution_count": null,
      "metadata": {
        "id": "3fD91dV3L_Pe"
      },
      "outputs": [],
      "source": [
        "import cv2\n",
        "import numpy as np\n",
        "import PIL\n",
        "from PIL import Image\n",
        "import os"
      ]
    },
    {
      "cell_type": "code",
      "source": [
        "def enhance_image(image):\n",
        "  Gray_Image=cv2.ctvcolor(image,cv2.COLOR_BGR2GRAY) #Image conversion\n",
        "  clahe=cv2.createCLAHE(clipLimit=2.0,tileGridSize=(8,8))# Using histogram for imageconversion\n",
        "  converted_image=clahe.apply(Gray_Image)\n",
        "  return converted_image\n"
      ],
      "metadata": {
        "id": "kA_EetRBMVQn"
      },
      "execution_count": null,
      "outputs": []
    },
    {
      "cell_type": "code",
      "source": [
        "def get_output_image(Input_image_path,fullyannoted_image_path,outputannoted_image_path):\n",
        "    Input_image=cv2.imread(Input_image_path)\n",
        "    fully_annoted_image=cv2.imread(fullyannoted_image_path)\n",
        "\n",
        "    print(\"Shape of Input Image :\" ,Input_image.shape)\n",
        "    print(\"Shape of fully_annoted_image :\",fully_annoted_image.shape)\n",
        "\n",
        "    Resized_fully_annoted_image = cv2.resize(fully_annoted_image,(Input_image.shape[1],Input_image.shape[0])) # Image Resize\n",
        "    Input_image_array = np.array(Input_image)\n",
        "    fully_annoted_image_array = np.array(Resized_fully_annoted_image)\n",
        "\n",
        "    # Seperating both left and right side of the image\n",
        "\n",
        "    width = fully_annoted_image.shape[1]\n",
        "    left_part = fully_annoted_image_array[:,:width//2,:]\n",
        "    right_part = fully_annoted_image_array[:,width//2:,:]\n",
        "\n",
        "    # ROF Calculation\n",
        "\n",
        "    total_pixels = fully_annoted_image_array.shape[0] * fully_annoted_image_array.shape[1]\n",
        "    foreground_pixels = np.count_nonzero(fully_annoted_image_array)\n",
        "    rof = foreground_pixels / total_pixels\n",
        "    print(\"Rate of ForeGround :\",rof)\n",
        "\n",
        "    #Copying Annoted Image to Original Image\n",
        "\n",
        "    annoted_image = right_part if rof > 0.5 else left_part\n",
        "    Input_image_array[:,width//2:,:] = annoted_image\n",
        "\n",
        "    output_image = cv2.cvtColor(Input_image_array,cv2.COLOR_BGR2RGB)\n",
        "    cv2.imwrite(outputannoted_image_path,output_image)\n",
        "\n",
        "Input_image_path ='/content/drive/MyDrive/Colab Notebooks/original_image.jpg'\n",
        "\n",
        "fullyannoted_image_path = '/content/drive/MyDrive/Colab Notebooks/fully_annotated_image.jpg'\n",
        "\n",
        "outputannoted_image_path = '/content/drive/MyDrive/Colab Notebooks/OUTPUT_partially_annotated_image.jpg'\n",
        "\n",
        "get_output_image(Input_image_path,fullyannoted_image_path,outputannoted_image_path)\n",
        "\n",
        "\n"
      ],
      "metadata": {
        "colab": {
          "base_uri": "https://localhost:8080/"
        },
        "id": "MSgO0DhghQwF",
        "outputId": "ef7c6e5e-33c7-4546-f5ef-7f96b67f348d"
      },
      "execution_count": null,
      "outputs": [
        {
          "output_type": "stream",
          "name": "stdout",
          "text": [
            "Shape of Input Image : (978, 978, 3)\n",
            "Shape of fully_annoted_image : (938, 939, 3)\n",
            "Rate of ForeGround : 3.0\n"
          ]
        }
      ]
    },
    {
      "cell_type": "code",
      "source": [
        "image=(\"/content/drive/MyDrive/Colab Notebooks/OUTPUT_partially_annotated_image.jpg\")\n",
        "enhance_image(image)"
      ],
      "metadata": {
        "id": "aarWn6nb13db"
      },
      "execution_count": null,
      "outputs": []
    }
  ]
}