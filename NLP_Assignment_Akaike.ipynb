{
  "cells": [
    {
      "cell_type": "markdown",
      "metadata": {
        "id": "view-in-github",
        "colab_type": "text"
      },
      "source": [
        "<a href=\"https://colab.research.google.com/github/Karthika0804/Akaike_Assignment/blob/main/NLP_Assignment_Akaike.ipynb\" target=\"_parent\"><img src=\"https://colab.research.google.com/assets/colab-badge.svg\" alt=\"Open In Colab\"/></a>"
      ]
    },
    {
      "cell_type": "markdown",
      "metadata": {
        "id": "EM1HnEDh_Jbv"
      },
      "source": [
        "# **Genrating MultipleChoose Q&A Using NLP(Spacy)**"
      ]
    },
    {
      "cell_type": "markdown",
      "source": [
        "# **Imported Libraries**"
      ],
      "metadata": {
        "id": "mm0p_yc1_la2"
      }
    },
    {
      "cell_type": "code",
      "execution_count": null,
      "metadata": {
        "id": "-8qB9dfux4vB"
      },
      "outputs": [],
      "source": [
        "import spacy\n",
        "import random\n",
        "import os"
      ]
    },
    {
      "cell_type": "markdown",
      "source": [
        "# **Spacy Loaded For English Language**\n",
        "\n",
        "\n"
      ],
      "metadata": {
        "id": "-T_W9AdEAKxG"
      }
    },
    {
      "cell_type": "code",
      "execution_count": null,
      "metadata": {
        "id": "M-sdIis7z0xL"
      },
      "outputs": [],
      "source": [
        "nlp=spacy.load(\"en_core_web_sm\")"
      ]
    },
    {
      "cell_type": "markdown",
      "source": [
        "# **Function for Context & Questions Genration**"
      ],
      "metadata": {
        "id": "qdqrkij6Ajw8"
      }
    },
    {
      "cell_type": "code",
      "execution_count": null,
      "metadata": {
        "id": "cm8Enrfq6HsT"
      },
      "outputs": [],
      "source": [
        "def get_mca_questions(context:str,num_questions:int):\n",
        "  doc=nlp(context)"
      ]
    },
    {
      "cell_type": "markdown",
      "source": [
        "# **Function for Genrating MCQs**"
      ],
      "metadata": {
        "id": "uuvGCamOBAk9"
      }
    },
    {
      "cell_type": "code",
      "execution_count": null,
      "metadata": {
        "id": "bPKA7Cuu8VFn"
      },
      "outputs": [],
      "source": [
        "def get_mcq_multicorrect_ans(Questions,Correct_Answers,Wrong_Options,num_options=4):\n",
        "  options=Correct_Answers+Wrong_Options\n",
        "  random.shuffle(options)\n",
        "  mcq = {\n",
        "      \"question\" : question,\n",
        "      \"options\" : options,\n",
        "      \"Correct_Answers\" : Correct_Answers\n",
        "\n",
        "  }"
      ]
    },
    {
      "cell_type": "markdown",
      "source": [
        "# **Function Block for Genrating Different MCQs**"
      ],
      "metadata": {
        "id": "6l2cn0H4BcRr"
      }
    },
    {
      "cell_type": "code",
      "execution_count": null,
      "metadata": {
        "id": "y5IbrigqSdXr"
      },
      "outputs": [],
      "source": [
        "def get_different_questions():\n",
        "\n",
        "  sentence=random.choice(list(doc.sents)) # Select Sentence from context\n",
        "  non_pronounciation_words = random.choice([token for token in sentence if not token.is_punct]) # Selecting non_pronounciation words or meaningless words\n",
        "  Questions = sentence.text.replace(non_pronounciation_words,\"_______\")# creating questions with blank word\n",
        "  Correct_Answers =[non_pronounciation_words.text] # Assigning Correct answers to meaningless words\n",
        "  Wrong_options=[token.text for token in doc if token.is_alpha and token.text!=Correct_Answers[0]]#probablity of answers other than correct answers\n",
        "  num_correct_answers=random.randint(1,2)#Mention how many correct answers using rand\n",
        "  Correct_Answers.extend=(random.sample(Wrong_options,num_correct_answers))\n",
        "  num_other_options=min(4- num_correct_answers,len(Wrong_options))\n",
        "  Wrong_options=random.sample(Wrong_options,num_other_options)\n",
        "  mcq=get_mcq_multicorrect_ans(Questions,Correct_Answers,Wrong_options)\n",
        "  return mcq"
      ]
    },
    {
      "cell_type": "markdown",
      "source": [
        "# **Loops For Genrating Questions and Choices**"
      ],
      "metadata": {
        "id": "-CvuvvUKCBwt"
      }
    },
    {
      "cell_type": "code",
      "execution_count": null,
      "metadata": {
        "id": "LMbq_JQ9p17-"
      },
      "outputs": [],
      "source": [
        "questions=[get_different_questions() for _ in range(num_questions)]\n",
        "MCA_Questions=[]\n",
        "for i,question in enumerate(questions,start=1):\n",
        "  question_str=f\"Q{i}:{questions['questions']}\\n\"\n",
        "  option_str = \"\"\n",
        "  for j,option in enumerate(question['options']):\n",
        "    option_str += f\"{j+1}.{option}.\\n\"\n",
        "    converted_answers=\"&\".join([f\"({chr(97+question['options'].index(ans))})\"for ans in question[\"correct_answers\"]])\n",
        "    correct_options_str=f\"Correct Options: {converted_answers}\\n\"\n",
        "    MCA_Question=f\"{question_str}{option_str}{correct_options_str}\\n\"\n",
        "    MCA_Questions.append(MCA_Question)\n",
        "#return MCA_Questions"
      ]
    },
    {
      "cell_type": "markdown",
      "source": [
        "# **Inputs & Questions Display**"
      ],
      "metadata": {
        "id": "S17IJRqbDZnD"
      }
    },
    {
      "cell_type": "code",
      "execution_count": null,
      "metadata": {
        "id": "Db_Jz7odo0Kl"
      },
      "outputs": [],
      "source": [
        "context = input(\"Insert any Paragraph : \" )\n",
        "num_questions = int(input(\"Number of MCQ :\"))\n",
        "MCA_Questions= get_mca_questions(context,num_questions)\n",
        "for question in MCA_Questions:\n",
        "  print(question)"
      ]
    },
    {
      "cell_type": "markdown",
      "source": [
        "# **Output Execution Block**"
      ],
      "metadata": {
        "id": "nKLY6xxGEF5R"
      }
    },
    {
      "cell_type": "code",
      "execution_count": null,
      "metadata": {
        "id": "FVnTcIzVqwpI",
        "colab": {
          "base_uri": "https://localhost:8080/"
        },
        "outputId": "ff548573-2252-4d21-8b81-12ba3cbf4f56"
      },
      "outputs": [
        {
          "output_type": "stream",
          "name": "stdout",
          "text": [
            "Insert any Paragraph : n March 1859, thousands of ryots in Bengal refused  to grow indigo. As the rebellion spread, ryots refused  to pay rents to the planters, and attacked indigo  factories armed with swords and spears, bows and  arrows. Women turned up to fight with pots, pans  and kitchen implements. Those who worked for the  planters were socially boycotted, and the gomasthas –  agents of planters – who came to collect rent were  beaten up. Ryots swore they would no longer take  advances to sow indigo nor be bullied by the planters’  lathiyals – the lathi-wielding strongmen maintained by  the planters. Why did the indigo peasants decide that they would no  longer remain silent? What gave them the power to rebel?  Clearly, the indigo system was intensely oppressive. But  those who are oppressed do not always rise up in rebellion.  They do so only at times.  In 1859, the indigo ryots felt that they had the support  of the local zamindars and village headmen in their  rebellion against the planters. In many villages, headmen  who had been forced to sign indigo contracts, mobilised  the indigo peasants and fought pitched battles with the  lathiyals. In other places even the zamindars went around  villages urging the ryots to resist the planters. These  zamindars were unhappy with the increasing power of the  planters and angry at being forced by the planters to give  them land on long leases. \n",
            "Number of MCQ :5\n",
            "Q1: In o_______r places even _______ zamindars went around  villages urging _______ ryots to resist _______ planters.\n",
            "1.indigo\n",
            "2.indigo\n",
            "3.the\n",
            "4.forced\n",
            "5.indigo\n",
            "Correct Options: (c) & (a)\n",
            "\n",
            "\n",
            "Q2: In other places even the _______ went around  villages urging the ryots to resist the planters.\n",
            "1.the\n",
            "2.zamindars\n",
            "3.rise\n",
            "4.lathi\n",
            "5.turned\n",
            "Correct Options: (b) & (e)\n",
            "\n",
            "\n",
            "Q3: But  those who are _______ do not always rise up in rebellion.  \n",
            "1.kitchen\n",
            "2.land\n",
            "3.the\n",
            "4.oppressed\n",
            "5.up\n",
            "Correct Options: (d) & (a)\n",
            "\n",
            "\n",
            "Q4: n March 1859, thousands _______ ryots in Bengal refused  to grow indigo.\n",
            "1.planters\n",
            "2.of\n",
            "3.lathiyals\n",
            "4.indigo\n",
            "5.agents\n",
            "Correct Options: (b) & (e) & (d)\n",
            "\n",
            "\n",
            "Q5: In o_______r places even _______ zamindars went around  villages urging _______ ryots to resist _______ planters.\n",
            "1.even\n",
            "2.But\n",
            "3.of\n",
            "4.Women\n",
            "5.the\n",
            "Correct Options: (e) & (c) & (d)\n",
            "\n",
            "\n"
          ]
        }
      ],
      "source": [
        "def get_mca_questions(context:str,num_questions:int):\n",
        "  doc=nlp(context)\n",
        "\n",
        "  def get_mcq_multicorrect_ans(question,Correct_Answers,Wrong_Options,num_options=4):\n",
        "      options=Correct_Answers+Wrong_Options\n",
        "      random.shuffle(options)\n",
        "      mcq = {\n",
        "      \"question\" : question,\n",
        "      \"options\" : options,\n",
        "      \"Correct_Answers\" : Correct_Answers\n",
        "     }\n",
        "      return mcq\n",
        "\n",
        "  def get_different_questions():\n",
        "         sentence=random.choice(list(doc.sents)) # Select Sentence from context\n",
        "         non_pronounciation_words = random.choice([token for token in sentence if not token.is_punct]) # Selecting non_pronounciation words or meaningless words\n",
        "         Questions_Text = sentence.text.replace(non_pronounciation_words.text,\"_______\")# creating questions with blank word\n",
        "         Correct_Answers =[non_pronounciation_words.text] # Assigning Correct answers to meaningless words\n",
        "         Wrong_options=[token.text for token in doc if token.is_alpha and token.text!=Correct_Answers[0]]#probablity of answers other than correct answers\n",
        "         num_correct_answers=random.randint(1,2)#Mention how many correct answers using rand\n",
        "         Correct_Answers.extend(random.sample(Wrong_options,num_correct_answers))\n",
        "         num_other_options = min(4 - num_correct_answers,len(Wrong_options))\n",
        "         Wrong_options=random.sample(Wrong_options,num_other_options)\n",
        "         mcq=get_mcq_multicorrect_ans(Questions_Text,Correct_Answers,Wrong_options)\n",
        "         return mcq\n",
        "  questions = [get_different_questions() for _ in range(num_questions)]\n",
        "  MCA_Questions=[]\n",
        "  for i,question in enumerate(questions,start=1):\n",
        "          question_str = f\"Q{i}: {question['question']}\\n\"\n",
        "          #question_str = f\"Q{i}: {question['question']}\\n\"\n",
        "          option_str = \"\"\n",
        "\n",
        "          for j,option in enumerate(question['options']):\n",
        "              option_str += f\"{j+1}.{option}\\n\"\n",
        "\n",
        "          converted_answers =\" & \".join([f\"({chr(97+question['options'].index(ans))})\" for ans in question[\"Correct_Answers\"]])\n",
        "          correct_options_str=f\"Correct Options: {converted_answers}\\n\"\n",
        "\n",
        "          MCA_Question=f\"{question_str}{option_str}{correct_options_str}\\n\"\n",
        "          MCA_Questions.append(MCA_Question)\n",
        "\n",
        "  return MCA_Questions\n",
        "context = input(\"Insert any Paragraph : \" )\n",
        "num_questions = int(input(\"Number of MCQ :\"))\n",
        "MCA_Questions= get_mca_questions(context,num_questions)\n",
        "for question in MCA_Questions:\n",
        "   print(question)\n",
        "\n",
        "\n",
        "\n",
        "\n"
      ]
    }
  ],
  "metadata": {
    "colab": {
      "provenance": [],
      "authorship_tag": "ABX9TyNnAU3XyezP7KgVuFGBgFST",
      "include_colab_link": true
    },
    "kernelspec": {
      "display_name": "Python 3",
      "name": "python3"
    },
    "language_info": {
      "name": "python"
    }
  },
  "nbformat": 4,
  "nbformat_minor": 0
}